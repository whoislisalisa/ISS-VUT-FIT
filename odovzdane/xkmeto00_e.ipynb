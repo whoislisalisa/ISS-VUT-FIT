{
 "cells": [
  {
   "cell_type": "markdown",
   "metadata": {},
   "source": [
    "# ISS Project\n",
    "Frederika Kmeťová, xkmeto00 "
   ]
  },
  {
   "cell_type": "code",
   "execution_count": null,
   "metadata": {},
   "outputs": [],
   "source": [
    "import numpy as np\n",
    "import matplotlib.pyplot as plt\n",
    "import soundfile as sf\n",
    "import IPython"
   ]
  },
  {
   "cell_type": "markdown",
   "metadata": {},
   "source": [
    "## 4.1 Basics\n",
    "### Read all the signals and select a 0.5 s long segment from the stable part of the signal.\n",
    "Showing first three periods of three midi tones : 31, 74, 81 and saving 0.5 seconds of those tones."
   ]
  },
  {
   "cell_type": "code",
   "execution_count": null,
   "metadata": {},
   "outputs": [],
   "source": [
    "MIDIFROM = 24\n",
    "MIDITO = 108\n",
    "SKIP_SEC = 0.25\n",
    "HOWMUCH_SEC = 0.5\n",
    "WHOLE_SEC = 2\n",
    "howmanytones = MIDITO - MIDIFROM + 1\n",
    "tones = np.arange(MIDIFROM, MIDITO + 1)\n",
    "orig, Fs = sf.read('klavir.wav')\n",
    "N = int(Fs * HOWMUCH_SEC) \n",
    "Nwholetone = int(Fs * WHOLE_SEC) \n",
    "xall = np.zeros((MIDITO+1, N)) \n",
    "samplefrom = int(SKIP_SEC * Fs)\n",
    "sampleto = samplefrom + N\n",
    "for tone in tones:\n",
    "    x = orig[samplefrom:sampleto]\n",
    "    x = x - np.mean(x) \n",
    "    xall[tone,:] = x\n",
    "    samplefrom += Nwholetone\n",
    "    sampleto += Nwholetone"
   ]
  },
  {
   "cell_type": "markdown",
   "metadata": {},
   "source": [
    "My tones and periods i will be using:"
   ]
  },
  {
   "cell_type": "code",
   "execution_count": null,
   "metadata": {},
   "outputs": [],
   "source": [
    "tones = ((31, 49.00), (74, 587.33), (81, 880.00))\n",
    "t = 3\n",
    "_, axs = plt.subplots(3, 2, figsize=(20,10))"
   ]
  },
  {
   "cell_type": "markdown",
   "metadata": {},
   "source": [
    "Calculating the tones:"
   ]
  },
  {
   "cell_type": "code",
   "execution_count": null,
   "metadata": {},
   "outputs": [],
   "source": [
    "#tone 31 midi f = 49.00 hz\n",
    "axs[0, 0].grid(alpha=0.5, linestyle='--')\n",
    "axs[0, 0].set_xlabel(\"Time [ms]\")\n",
    "axs[0, 0].set_ylabel(\"Amplitude\")\n",
    "axs[0, 0].set_title(\"Tone 31\")\n",
    "tone31 = xall[tones[0][0]]\n",
    "firstperiod3 = 49.00\n",
    "sf.write('audio/a_orig.wav', tone31, Fs)\n",
    "period3 = int(48000 * 1 // firstperiod3) * t\n",
    "period31 = tone31[0:period3]\n",
    "axs[0, 0].plot(period31)\n",
    "\n",
    "#tone 74 midi where frequencie is 587.33 hz\n",
    "axs[1, 0].grid(alpha=0.5, linestyle='--')\n",
    "axs[1, 0].set_xlabel(\"Time [ms]\")\n",
    "axs[1, 0].set_ylabel(\"Amplitude\")\n",
    "axs[1, 0].set_title(\"Tone 74\")\n",
    "tone74 = xall[tones[1][0]]\n",
    "firstperiod3 = 587.33\n",
    "sf.write('audio/b_orig.wav', tone74, Fs)\n",
    "period3 = int(48000 * 1 // firstperiod3) * t\n",
    "period74 = tone74[0:period3]\n",
    "axs[1, 0].plot(period74)\n",
    "\n",
    "# tone 81 midi where frequencie is 880.00 hz\n",
    "axs[2, 0].grid(alpha=0.5, linestyle='--')\n",
    "axs[2, 0].set_xlabel(\"Time [ms]\")\n",
    "axs[2, 0].set_ylabel(\"Amplitude\")\n",
    "axs[2, 0].set_title(\"Tone 81\")\n",
    "tone81 = xall[tones[2][0]]\n",
    "firstperiod3 = 880.00\n",
    "sf.write('audio/c_orig.wav', tone81, Fs)\n",
    "period3 = int(48000 * 1 // firstperiod3) * t\n",
    "period81 = tone81[0:period3]\n",
    "axs[2, 0].plot(period81)"
   ]
  },
  {
   "cell_type": "markdown",
   "metadata": {},
   "source": [
    "Calculating the spectrum:"
   ]
  },
  {
   "cell_type": "code",
   "execution_count": null,
   "metadata": {},
   "outputs": [],
   "source": [
    "#tone 31 midi f = 49.00 hz\n",
    "axs[0, 1].grid(alpha=0.5, linestyle='--')\n",
    "axs[0, 1].set_xlabel(\"Frequency [Hz]\")\n",
    "axs[0, 1].set_ylabel(\"PSD\")\n",
    "axs[0, 1].set_title(\"Spectrum 31\")\n",
    "t31 = np.abs(np.fft.rfft(tone31))\n",
    "logspectrum31 = np.log(1e-5 + t31**2)\n",
    "spectrum31 = logspectrum31[0:logspectrum31.size // 2]\n",
    "axs[0,1].plot(np.arange(spectrum31.size)*(Fs/tone31.size),spectrum31)\n",
    "\n",
    "#tone 74 midi where frequencie is 587.33 hz\n",
    "axs[1, 1].grid(alpha=0.5, linestyle='--')\n",
    "axs[1, 1].set_xlabel(\"Frequency [Hz]\")\n",
    "axs[1, 1].set_ylabel(\"PSD\")\n",
    "axs[1, 1].set_title(\"Spectrum 74\")\n",
    "t74 = np.abs(np.fft.rfft(tone74))\n",
    "logspectrum74 = np.log(1e-5 + t74**2)\n",
    "spectrum74 = logspectrum74[0:logspectrum74.size // 2]\n",
    "axs[1,1].plot(np.arange(spectrum74.size)*(Fs/tone74.size),spectrum74)\n",
    "\n",
    "# tone 81 midi where frequencie is 880.00 hz\n",
    "axs[2, 1].grid(alpha=0.5, linestyle='--')\n",
    "axs[2, 1].set_xlabel(\"Frequency [Hz]\")\n",
    "axs[2, 1].set_ylabel(\"PSD\")\n",
    "axs[2, 1].set_title(\"Spectrum 81\")\n",
    "t81 = np.abs(np.fft.rfft(tone81))\n",
    "logspectrum81 = np.log(1e-5 + t81**2)\n",
    "spectrum81 = logspectrum81[0:logspectrum81.size // 2]\n",
    "axs[2,1].plot(np.arange(spectrum81.size)*(Fs/tone81.size),spectrum81)"
   ]
  },
  {
   "cell_type": "markdown",
   "metadata": {},
   "source": [
    "Final visualization of tones and spectrum is:"
   ]
  },
  {
   "cell_type": "markdown",
   "metadata": {},
   "source": [
    "<img src=\"/Users/kmetovaf/Documents/VUTFIT_CODES/ISS/out.png\">"
   ]
  }
 ],
 "metadata": {
  "kernelspec": {
   "display_name": "Python 3.11.0 64-bit",
   "language": "python",
   "name": "python3"
  },
  "language_info": {
   "name": "python",
   "version": "3.11.0"
  },
  "orig_nbformat": 4,
  "vscode": {
   "interpreter": {
    "hash": "1a1af0ee75eeea9e2e1ee996c87e7a2b11a0bebd85af04bb136d915cefc0abce"
   }
  }
 },
 "nbformat": 4,
 "nbformat_minor": 2
}
